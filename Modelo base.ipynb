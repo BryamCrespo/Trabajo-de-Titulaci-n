{
 "cells": [
  {
   "cell_type": "code",
   "execution_count": 1,
   "id": "162b53e7",
   "metadata": {},
   "outputs": [],
   "source": [
    "import pandas as pd"
   ]
  },
  {
   "cell_type": "code",
   "execution_count": 2,
   "id": "29615970",
   "metadata": {},
   "outputs": [],
   "source": [
    "df=pd.read_excel('INSF.xlsx')\n",
    "X=df.iloc[:,2:11]\n",
    "y=df['INSF']"
   ]
  },
  {
   "cell_type": "code",
   "execution_count": 3,
   "id": "6b874e4a",
   "metadata": {},
   "outputs": [
    {
     "data": {
      "text/html": [
       "<div>\n",
       "<style scoped>\n",
       "    .dataframe tbody tr th:only-of-type {\n",
       "        vertical-align: middle;\n",
       "    }\n",
       "\n",
       "    .dataframe tbody tr th {\n",
       "        vertical-align: top;\n",
       "    }\n",
       "\n",
       "    .dataframe thead th {\n",
       "        text-align: right;\n",
       "    }\n",
       "</style>\n",
       "<table border=\"1\" class=\"dataframe\">\n",
       "  <thead>\n",
       "    <tr style=\"text-align: right;\">\n",
       "      <th></th>\n",
       "      <th>Oxígeno Disuelto</th>\n",
       "      <th>Coliformes Fecales</th>\n",
       "      <th>pH</th>\n",
       "      <th>DBO5</th>\n",
       "      <th>Nitratos</th>\n",
       "      <th>Fosfatos</th>\n",
       "      <th>Temperatura</th>\n",
       "      <th>Turbiedad</th>\n",
       "      <th>Sólidos Totales</th>\n",
       "    </tr>\n",
       "  </thead>\n",
       "  <tbody>\n",
       "    <tr>\n",
       "      <th>0</th>\n",
       "      <td>100.0</td>\n",
       "      <td>17.0</td>\n",
       "      <td>7.500</td>\n",
       "      <td>0.80</td>\n",
       "      <td>9.66</td>\n",
       "      <td>0.04811</td>\n",
       "      <td>10.3</td>\n",
       "      <td>1.54</td>\n",
       "      <td>82.0</td>\n",
       "    </tr>\n",
       "    <tr>\n",
       "      <th>1</th>\n",
       "      <td>100.0</td>\n",
       "      <td>27.0</td>\n",
       "      <td>7.700</td>\n",
       "      <td>0.60</td>\n",
       "      <td>4.03</td>\n",
       "      <td>0.07014</td>\n",
       "      <td>12.9</td>\n",
       "      <td>3.32</td>\n",
       "      <td>74.0</td>\n",
       "    </tr>\n",
       "    <tr>\n",
       "      <th>2</th>\n",
       "      <td>100.0</td>\n",
       "      <td>23.0</td>\n",
       "      <td>7.500</td>\n",
       "      <td>0.60</td>\n",
       "      <td>4.03</td>\n",
       "      <td>0.02914</td>\n",
       "      <td>12.5</td>\n",
       "      <td>1.18</td>\n",
       "      <td>73.0</td>\n",
       "    </tr>\n",
       "    <tr>\n",
       "      <th>3</th>\n",
       "      <td>100.0</td>\n",
       "      <td>49.0</td>\n",
       "      <td>7.400</td>\n",
       "      <td>0.60</td>\n",
       "      <td>6.53</td>\n",
       "      <td>0.03907</td>\n",
       "      <td>10.6</td>\n",
       "      <td>1.98</td>\n",
       "      <td>65.0</td>\n",
       "    </tr>\n",
       "    <tr>\n",
       "      <th>4</th>\n",
       "      <td>100.0</td>\n",
       "      <td>33.0</td>\n",
       "      <td>7.400</td>\n",
       "      <td>0.70</td>\n",
       "      <td>9.03</td>\n",
       "      <td>0.04553</td>\n",
       "      <td>10.0</td>\n",
       "      <td>1.53</td>\n",
       "      <td>82.0</td>\n",
       "    </tr>\n",
       "    <tr>\n",
       "      <th>...</th>\n",
       "      <td>...</td>\n",
       "      <td>...</td>\n",
       "      <td>...</td>\n",
       "      <td>...</td>\n",
       "      <td>...</td>\n",
       "      <td>...</td>\n",
       "      <td>...</td>\n",
       "      <td>...</td>\n",
       "      <td>...</td>\n",
       "    </tr>\n",
       "    <tr>\n",
       "      <th>287</th>\n",
       "      <td>102.0</td>\n",
       "      <td>1400000.0</td>\n",
       "      <td>8.000</td>\n",
       "      <td>3.50</td>\n",
       "      <td>40.00</td>\n",
       "      <td>0.39838</td>\n",
       "      <td>11.5</td>\n",
       "      <td>3.82</td>\n",
       "      <td>89.0</td>\n",
       "    </tr>\n",
       "    <tr>\n",
       "      <th>288</th>\n",
       "      <td>104.8</td>\n",
       "      <td>17000.0</td>\n",
       "      <td>8.144</td>\n",
       "      <td>1.75</td>\n",
       "      <td>220.00</td>\n",
       "      <td>0.45967</td>\n",
       "      <td>13.6</td>\n",
       "      <td>2.51</td>\n",
       "      <td>54.0</td>\n",
       "    </tr>\n",
       "    <tr>\n",
       "      <th>289</th>\n",
       "      <td>91.6</td>\n",
       "      <td>1700000.0</td>\n",
       "      <td>7.483</td>\n",
       "      <td>6.00</td>\n",
       "      <td>360.00</td>\n",
       "      <td>2.20645</td>\n",
       "      <td>14.4</td>\n",
       "      <td>13.70</td>\n",
       "      <td>157.0</td>\n",
       "    </tr>\n",
       "    <tr>\n",
       "      <th>290</th>\n",
       "      <td>99.4</td>\n",
       "      <td>20000.0</td>\n",
       "      <td>7.450</td>\n",
       "      <td>0.25</td>\n",
       "      <td>200.00</td>\n",
       "      <td>0.12258</td>\n",
       "      <td>12.3</td>\n",
       "      <td>2.22</td>\n",
       "      <td>79.0</td>\n",
       "    </tr>\n",
       "    <tr>\n",
       "      <th>291</th>\n",
       "      <td>100.3</td>\n",
       "      <td>330000.0</td>\n",
       "      <td>7.694</td>\n",
       "      <td>6.00</td>\n",
       "      <td>200.00</td>\n",
       "      <td>0.64354</td>\n",
       "      <td>13.5</td>\n",
       "      <td>3.52</td>\n",
       "      <td>121.0</td>\n",
       "    </tr>\n",
       "  </tbody>\n",
       "</table>\n",
       "<p>292 rows × 9 columns</p>\n",
       "</div>"
      ],
      "text/plain": [
       "     Oxígeno Disuelto  Coliformes Fecales     pH  DBO5  Nitratos  Fosfatos  \\\n",
       "0               100.0                17.0  7.500  0.80      9.66   0.04811   \n",
       "1               100.0                27.0  7.700  0.60      4.03   0.07014   \n",
       "2               100.0                23.0  7.500  0.60      4.03   0.02914   \n",
       "3               100.0                49.0  7.400  0.60      6.53   0.03907   \n",
       "4               100.0                33.0  7.400  0.70      9.03   0.04553   \n",
       "..                ...                 ...    ...   ...       ...       ...   \n",
       "287             102.0           1400000.0  8.000  3.50     40.00   0.39838   \n",
       "288             104.8             17000.0  8.144  1.75    220.00   0.45967   \n",
       "289              91.6           1700000.0  7.483  6.00    360.00   2.20645   \n",
       "290              99.4             20000.0  7.450  0.25    200.00   0.12258   \n",
       "291             100.3            330000.0  7.694  6.00    200.00   0.64354   \n",
       "\n",
       "     Temperatura  Turbiedad  Sólidos Totales  \n",
       "0           10.3       1.54             82.0  \n",
       "1           12.9       3.32             74.0  \n",
       "2           12.5       1.18             73.0  \n",
       "3           10.6       1.98             65.0  \n",
       "4           10.0       1.53             82.0  \n",
       "..           ...        ...              ...  \n",
       "287         11.5       3.82             89.0  \n",
       "288         13.6       2.51             54.0  \n",
       "289         14.4      13.70            157.0  \n",
       "290         12.3       2.22             79.0  \n",
       "291         13.5       3.52            121.0  \n",
       "\n",
       "[292 rows x 9 columns]"
      ]
     },
     "execution_count": 3,
     "metadata": {},
     "output_type": "execute_result"
    }
   ],
   "source": [
    "X"
   ]
  },
  {
   "cell_type": "code",
   "execution_count": 4,
   "id": "e127f0aa",
   "metadata": {},
   "outputs": [
    {
     "data": {
      "text/plain": [
       "0      80.488830\n",
       "1      80.110454\n",
       "2      81.591183\n",
       "3      79.735328\n",
       "4      79.770114\n",
       "         ...    \n",
       "287    60.447158\n",
       "288    59.622509\n",
       "289    50.242044\n",
       "290    65.500641\n",
       "291    55.599849\n",
       "Name: INSF, Length: 292, dtype: float64"
      ]
     },
     "execution_count": 4,
     "metadata": {},
     "output_type": "execute_result"
    }
   ],
   "source": [
    "y"
   ]
  },
  {
   "cell_type": "markdown",
   "id": "14253d43",
   "metadata": {},
   "source": [
    "## Árbol de Decisión (Regresión)"
   ]
  },
  {
   "cell_type": "code",
   "execution_count": 5,
   "id": "725ac154",
   "metadata": {},
   "outputs": [],
   "source": [
    "from sklearn.tree import DecisionTreeRegressor\n",
    "from sklearn.model_selection import cross_val_score"
   ]
  },
  {
   "cell_type": "code",
   "execution_count": 6,
   "id": "d839e921",
   "metadata": {},
   "outputs": [
    {
     "name": "stdout",
     "output_type": "stream",
     "text": [
      "Validación cruzada del Árbol de Decisión: [0.84704634 0.93383636 0.85802625 0.92702096 0.91762681 0.77738118\n",
      " 0.9069623  0.90939343 0.88891471 0.91127824]\n",
      "Promedio: 0.8877486572244662 - Desviación estándar: 0.04546738851741812\n"
     ]
    }
   ],
   "source": [
    "modelo_dt=DecisionTreeRegressor()\n",
    "\n",
    "valcru_dt=cross_val_score(modelo_dt,X,y,cv=10)\n",
    "print('Validación cruzada del Árbol de Decisión:', valcru_dt)\n",
    "print('Promedio:', valcru_dt.mean(), '-', 'Desviación estándar:', valcru_dt.std())"
   ]
  },
  {
   "cell_type": "markdown",
   "id": "b7372872",
   "metadata": {},
   "source": [
    "## Bosque Aleatorio (Regresión)"
   ]
  },
  {
   "cell_type": "code",
   "execution_count": 7,
   "id": "c5ba5038",
   "metadata": {},
   "outputs": [],
   "source": [
    "from sklearn.ensemble import RandomForestRegressor\n",
    "from sklearn.model_selection import cross_val_score"
   ]
  },
  {
   "cell_type": "code",
   "execution_count": 17,
   "id": "da5ad72e",
   "metadata": {},
   "outputs": [
    {
     "name": "stdout",
     "output_type": "stream",
     "text": [
      "Validación cruzada del Bosque Aleatorio: [0.91019193 0.95968997 0.95345561 0.97362588 0.97624193 0.90045162\n",
      " 0.94982891 0.96766867 0.95119169 0.96370855]\n",
      "Promedio: 0.95060547643442 - Desviación estándar: 0.02426988243564442\n"
     ]
    }
   ],
   "source": [
    "modelo_rf=RandomForestRegressor()\n",
    "\n",
    "valcru_rf=cross_val_score(modelo_rf,X,y,cv=10)\n",
    "print('Validación cruzada del Bosque Aleatorio:', valcru_rf)\n",
    "print('Promedio:', valcru_rf.mean(), '-', 'Desviación estándar:', valcru_rf.std())"
   ]
  },
  {
   "cell_type": "markdown",
   "id": "00527d31",
   "metadata": {},
   "source": [
    "### Bosque Aleatorio (Regresión) - max_features"
   ]
  },
  {
   "cell_type": "code",
   "execution_count": 9,
   "id": "f1df3c6f",
   "metadata": {},
   "outputs": [
    {
     "name": "stdout",
     "output_type": "stream",
     "text": [
      "Validación cruzada del Bosque Aleatorio: [0.90182758 0.94186298 0.9388242  0.96231553 0.97845218 0.94538083\n",
      " 0.95050989 0.96855171 0.95135553 0.98045647]\n",
      "Promedio: 0.9519536908059457 - Desviación estándar: 0.021748375123978106\n"
     ]
    }
   ],
   "source": [
    "modelo_rf_mf=RandomForestRegressor(max_features='sqrt')\n",
    "\n",
    "valcru_rf_mf=cross_val_score(modelo_rf_mf,X,y,cv=10)\n",
    "print('Validación cruzada del Bosque Aleatorio:', valcru_rf_mf)\n",
    "print('Promedio:', valcru_rf_mf.mean(), '-', 'Desviación estándar:', valcru_rf_mf.std())"
   ]
  },
  {
   "cell_type": "markdown",
   "id": "092cca96",
   "metadata": {},
   "source": [
    "### Bosque Aleatorio (Regresión) - max_samples"
   ]
  },
  {
   "cell_type": "code",
   "execution_count": 10,
   "id": "8e3eac7a",
   "metadata": {},
   "outputs": [
    {
     "name": "stdout",
     "output_type": "stream",
     "text": [
      "Validación cruzada del Bosque Aleatorio: [0.9273931  0.95820782 0.96200881 0.97018937 0.97204044 0.91627408\n",
      " 0.95142604 0.96848967 0.9457659  0.96732647]\n",
      "Promedio: 0.9539121690869992 - Desviación estándar: 0.018062296093315295\n"
     ]
    }
   ],
   "source": [
    "modelo_rf_ms=RandomForestRegressor(max_samples=0.7)\n",
    "\n",
    "valcru_rf_ms=cross_val_score(modelo_rf_ms,X,y,cv=10)\n",
    "print('Validación cruzada del Bosque Aleatorio:', valcru_rf_ms)\n",
    "print('Promedio:', valcru_rf_ms.mean(), '-', 'Desviación estándar:', valcru_rf_ms.std())"
   ]
  },
  {
   "cell_type": "markdown",
   "id": "ad507d7c",
   "metadata": {},
   "source": [
    "### Bosque Aleatorio (Regresión) - max_features/max_samples"
   ]
  },
  {
   "cell_type": "code",
   "execution_count": 11,
   "id": "b4cf8bff",
   "metadata": {},
   "outputs": [
    {
     "name": "stdout",
     "output_type": "stream",
     "text": [
      "Validación cruzada del Bosque Aleatorio: [0.89719044 0.92709063 0.94611738 0.9551722  0.97368871 0.95275062\n",
      " 0.95358486 0.96738617 0.94191878 0.98081603]\n",
      "Promedio: 0.9495715834183558 - Desviación estándar: 0.022918254931597607\n"
     ]
    }
   ],
   "source": [
    "modelo_rf_mfs=RandomForestRegressor(max_features='sqrt', max_samples=0.7)\n",
    "\n",
    "valcru_rf_mfs=cross_val_score(modelo_rf_mfs,X,y,cv=10)\n",
    "print('Validación cruzada del Bosque Aleatorio:', valcru_rf_mfs)\n",
    "print('Promedio:', valcru_rf_mfs.mean(), '-', 'Desviación estándar:', valcru_rf_mfs.std())"
   ]
  },
  {
   "cell_type": "markdown",
   "id": "694feb72",
   "metadata": {},
   "source": [
    "### Prueba T"
   ]
  },
  {
   "cell_type": "code",
   "execution_count": 1,
   "id": "a07376a9",
   "metadata": {},
   "outputs": [],
   "source": [
    "import numpy as np\n",
    "from scipy.stats import ttest_ind"
   ]
  },
  {
   "cell_type": "code",
   "execution_count": 2,
   "id": "7dada3cf",
   "metadata": {},
   "outputs": [
    {
     "name": "stdout",
     "output_type": "stream",
     "text": [
      "Estadístico t: 3.700929385684558\n",
      "Valor p: 0.001635270959061909\n",
      "Se rechaza la hipótesis nula; hay diferencias significativas entre las medias.\n"
     ]
    }
   ],
   "source": [
    "a=[0.91707818, 0.95945548, 0.95251451, 0.97480997, 0.97511639, 0.90555138, 0.9442668, 0.95824719, 0.94649157, 0.96637355]\n",
    "b=[0.84704634, 0.93383636, 0.85802625, 0.92702096, 0.91762681, 0.77738118, 0.9069623, 0.90939343, 0.88891471, 0.91127824]\n",
    "\n",
    "t_statistic, p_value=ttest_ind(a, b)\n",
    "\n",
    "print(f'Estadístico t: {t_statistic}')\n",
    "print(f'Valor p: {p_value}')\n",
    "\n",
    "if p_value<0.05:\n",
    "    print('Se rechaza la hipótesis nula; hay diferencias significativas entre las medias.')\n",
    "else:\n",
    "    print('No hay suficiente evidencia para rechazar la hipótesis nula; no hay diferencias significativas.')"
   ]
  },
  {
   "cell_type": "code",
   "execution_count": 13,
   "id": "4c8acb89",
   "metadata": {},
   "outputs": [
    {
     "name": "stdout",
     "output_type": "stream",
     "text": [
      "Estadístico t: -0.4262483363746562\n",
      "Valor p: 0.6749807354312127\n",
      "No hay suficiente evidencia para rechazar la hipótesis nula; no hay diferencias significativas.\n"
     ]
    }
   ],
   "source": [
    "a=[0.91707818, 0.95945548, 0.95251451, 0.97480997, 0.97511639, 0.90555138, 0.9442668, 0.95824719, 0.94649157, 0.96637355]\n",
    "b_mf=[0.91804051, 0.94356611, 0.93689624, 0.9612018, 0.98258263, 0.9513322, 0.95517221, 0.96616621, 0.94788134, 0.97748222]\n",
    "\n",
    "t_statistic, p_value=ttest_ind(a, b_mf)\n",
    "\n",
    "print(f'Estadístico t: {t_statistic}')\n",
    "print(f'Valor p: {p_value}')\n",
    "\n",
    "if p_value<0.05:\n",
    "    print('Se rechaza la hipótesis nula; hay diferencias significativas entre las medias.')\n",
    "else:\n",
    "    print('No hay suficiente evidencia para rechazar la hipótesis nula; no hay diferencias significativas.')"
   ]
  },
  {
   "cell_type": "code",
   "execution_count": 14,
   "id": "47202a15",
   "metadata": {},
   "outputs": [
    {
     "name": "stdout",
     "output_type": "stream",
     "text": [
      "Estadístico t: -0.38300055239510394\n",
      "Valor p: 0.7062048003910462\n",
      "No hay suficiente evidencia para rechazar la hipótesis nula; no hay diferencias significativas.\n"
     ]
    }
   ],
   "source": [
    "a=[0.91707818, 0.95945548, 0.95251451, 0.97480997, 0.97511639, 0.90555138, 0.9442668, 0.95824719, 0.94649157, 0.96637355]\n",
    "b_ms=[0.9268563, 0.95264214, 0.95009047, 0.96978179, 0.97785586, 0.91997467, 0.94943073, 0.96469351, 0.95367736, 0.9708544]\n",
    "\n",
    "t_statistic, p_value=ttest_ind(a, b_ms)\n",
    "\n",
    "print(f'Estadístico t: {t_statistic}')\n",
    "print(f'Valor p: {p_value}')\n",
    "\n",
    "if p_value<0.05:\n",
    "    print('Se rechaza la hipótesis nula; hay diferencias significativas entre las medias.')\n",
    "else:\n",
    "    print('No hay suficiente evidencia para rechazar la hipótesis nula; no hay diferencias significativas.')"
   ]
  },
  {
   "cell_type": "code",
   "execution_count": 15,
   "id": "8034e65b",
   "metadata": {},
   "outputs": [
    {
     "name": "stdout",
     "output_type": "stream",
     "text": [
      "Estadístico t: 0.03967213398687436\n",
      "Valor p: 0.9687912328035215\n",
      "No hay suficiente evidencia para rechazar la hipótesis nula; no hay diferencias significativas.\n"
     ]
    }
   ],
   "source": [
    "a=[0.91707818, 0.95945548, 0.95251451, 0.97480997, 0.97511639, 0.90555138, 0.9442668, 0.95824719, 0.94649157, 0.96637355]\n",
    "b_mfs=[0.89719044, 0.92709063, 0.94611738, 0.9551722, 0.97368871, 0.95275062, 0.95358486, 0.96738617, 0.94191878, 0.98081603]\n",
    "\n",
    "t_statistic, p_value=ttest_ind(a, b_mfs)\n",
    "\n",
    "print(f'Estadístico t: {t_statistic}')\n",
    "print(f'Valor p: {p_value}')\n",
    "\n",
    "if p_value<0.05:\n",
    "    print('Se rechaza la hipótesis nula; hay diferencias significativas entre las medias.')\n",
    "else:\n",
    "    print('No hay suficiente evidencia para rechazar la hipótesis nula; no hay diferencias significativas.')"
   ]
  },
  {
   "cell_type": "code",
   "execution_count": null,
   "id": "6e810eac",
   "metadata": {},
   "outputs": [],
   "source": []
  }
 ],
 "metadata": {
  "kernelspec": {
   "display_name": "Python 3 (ipykernel)",
   "language": "python",
   "name": "python3"
  },
  "language_info": {
   "codemirror_mode": {
    "name": "ipython",
    "version": 3
   },
   "file_extension": ".py",
   "mimetype": "text/x-python",
   "name": "python",
   "nbconvert_exporter": "python",
   "pygments_lexer": "ipython3",
   "version": "3.10.9"
  }
 },
 "nbformat": 4,
 "nbformat_minor": 5
}
