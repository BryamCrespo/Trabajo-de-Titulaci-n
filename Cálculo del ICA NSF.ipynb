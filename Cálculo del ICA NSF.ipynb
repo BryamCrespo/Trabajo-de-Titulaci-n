{
 "cells": [
  {
   "cell_type": "code",
   "execution_count": 1,
   "id": "20578d20",
   "metadata": {},
   "outputs": [],
   "source": [
    "import pandas as pd\n",
    "import math\n",
    "from tabulate import tabulate"
   ]
  },
  {
   "cell_type": "code",
   "execution_count": 2,
   "id": "6bafbf16",
   "metadata": {},
   "outputs": [],
   "source": [
    "df=pd.read_excel(\"BD.xlsx\")"
   ]
  },
  {
   "cell_type": "markdown",
   "id": "c8f7c53a",
   "metadata": {},
   "source": [
    "## Oxígeno Disuelto (Q)"
   ]
  },
  {
   "cell_type": "code",
   "execution_count": 3,
   "id": "baebc593",
   "metadata": {},
   "outputs": [
    {
     "name": "stdout",
     "output_type": "stream",
     "text": [
      "╒═════════════════════════════════════════════════════╕\n",
      "│ Q Oxígeno Disuelto                                  │\n",
      "╞═════════════════════════════════════════════════════╡\n",
      "│ 0      98.426800                                    │\n",
      "│ 1      98.426800                                    │\n",
      "│ 2      98.426800                                    │\n",
      "│ 3      98.426800                                    │\n",
      "│ 4      98.426800                                    │\n",
      "│          ...                                        │\n",
      "│ 287    98.483657                                    │\n",
      "│ 288    98.198192                                    │\n",
      "│ 289    95.768635                                    │\n",
      "│ 290    98.366673                                    │\n",
      "│ 291    98.449383                                    │\n",
      "│ Name: Oxígeno Disuelto, Length: 292, dtype: float64 │\n",
      "╘═════════════════════════════════════════════════════╛\n"
     ]
    }
   ],
   "source": [
    "def calcular_OD(valor_OD):\n",
    "    def calcular_Q_OD(OD):\n",
    "        if OD>140:\n",
    "            return 50\n",
    "        else:\n",
    "            return 3.1615e-8*OD**5-1.0304e-5*OD**4+1.0076e-3*OD**3-2.7883e-2*OD**2+8.4068e-1*OD-1.612e-1\n",
    "    Q_OD=valor_OD.apply(calcular_Q_OD)\n",
    "    return Q_OD\n",
    "Q_OD=calcular_OD(df[\"Oxígeno Disuelto\"])\n",
    "\n",
    "dt_OD=[[\"Q Oxígeno Disuelto\"],\n",
    "        [Q_OD]]\n",
    "tabla_OD=tabulate(dt_OD, headers=\"firstrow\", tablefmt=\"fancy_grid\")\n",
    "print(tabla_OD)\n",
    "\n",
    "df[\"Q OD\"]=Q_OD"
   ]
  },
  {
   "cell_type": "markdown",
   "id": "791cd7cf",
   "metadata": {},
   "source": [
    "## Coliformes Fecales (Q)"
   ]
  },
  {
   "cell_type": "code",
   "execution_count": 4,
   "id": "64ff93fd",
   "metadata": {},
   "outputs": [
    {
     "name": "stdout",
     "output_type": "stream",
     "text": [
      "╒═══════════════════════════════════════════════════════╕\n",
      "│ Q Coliformes Fecales                                  │\n",
      "╞═══════════════════════════════════════════════════════╡\n",
      "│ 0      64.651903                                      │\n",
      "│ 1      58.953083                                      │\n",
      "│ 2      60.913866                                      │\n",
      "│ 3      51.845921                                      │\n",
      "│ 4      56.525545                                      │\n",
      "│          ...                                          │\n",
      "│ 287     3.000000                                      │\n",
      "│ 288     8.285116                                      │\n",
      "│ 289     3.000000                                      │\n",
      "│ 290     7.757479                                      │\n",
      "│ 291     3.000000                                      │\n",
      "│ Name: Coliformes Fecales, Length: 292, dtype: float64 │\n",
      "╘═══════════════════════════════════════════════════════╛\n"
     ]
    }
   ],
   "source": [
    "def calcular_CF(valor_CF):\n",
    "    def calcular_Q_CF(CF):\n",
    "        if CF>100000:\n",
    "            return 3\n",
    "        else:\n",
    "            return math.exp(-0.0152*math.log(CF)**2-0.1063*math.log(CF)+4.5922)\n",
    "    Q_CF=valor_CF.apply(calcular_Q_CF)\n",
    "    return Q_CF\n",
    "Q_CF=calcular_CF(df[\"Coliformes Fecales\"])\n",
    "\n",
    "dt_CF=[[\"Q Coliformes Fecales\"],\n",
    "        [Q_CF]]\n",
    "tabla_CF=tabulate(dt_CF, headers=\"firstrow\", tablefmt=\"fancy_grid\")\n",
    "print(tabla_CF)\n",
    "\n",
    "df[\"Q CF\"]=Q_CF"
   ]
  },
  {
   "cell_type": "markdown",
   "id": "e4e80c34",
   "metadata": {},
   "source": [
    "## Potencial de Hidrógeno (Q)"
   ]
  },
  {
   "cell_type": "code",
   "execution_count": 5,
   "id": "d731e680",
   "metadata": {},
   "outputs": [
    {
     "name": "stdout",
     "output_type": "stream",
     "text": [
      "╒═══════════════════════════════════════╕\n",
      "│ Q Potencial de Hidrógeno              │\n",
      "╞═══════════════════════════════════════╡\n",
      "│ 0      93.229141                      │\n",
      "│ 1      91.216303                      │\n",
      "│ 2      93.229141                      │\n",
      "│ 3      93.562350                      │\n",
      "│ 4      93.562350                      │\n",
      "│          ...                          │\n",
      "│ 287    84.980500                      │\n",
      "│ 288    80.854683                      │\n",
      "│ 289    93.341403                      │\n",
      "│ 290    93.492895                      │\n",
      "│ 291    91.300755                      │\n",
      "│ Name: pH, Length: 292, dtype: float64 │\n",
      "╘═══════════════════════════════════════╛\n"
     ]
    }
   ],
   "source": [
    "def calcular_pH(valor_pH):\n",
    "    def calcular_Q_pH(pH):\n",
    "        if pH>12:\n",
    "            return 3\n",
    "        elif pH>7.5:\n",
    "            return -1.11429*pH**4+44.50952*pH**3-656.6*pH**2+4215.34762*pH-9840.14286\n",
    "        elif pH>=2:    \n",
    "            return -0.1789*pH**5+3.7932*pH**4-30.517*pH**3+119.75*pH**2-224.58*pH+159.46\n",
    "        else:\n",
    "            return 2\n",
    "    Q_pH=valor_pH.apply(calcular_Q_pH)\n",
    "    return Q_pH\n",
    "Q_pH=calcular_pH(df[\"pH\"])\n",
    "\n",
    "dt_pH=[[\"Q Potencial de Hidrógeno\"],\n",
    "        [Q_pH]]\n",
    "tabla_pH=tabulate(dt_pH, headers=\"firstrow\", tablefmt=\"fancy_grid\")\n",
    "print(tabla_pH)\n",
    "\n",
    "df[\"Q pH\"]=Q_pH"
   ]
  },
  {
   "cell_type": "markdown",
   "id": "c77cd8fd",
   "metadata": {},
   "source": [
    "## Demanda Bioquímica de Oxígeno (Q)"
   ]
  },
  {
   "cell_type": "code",
   "execution_count": 6,
   "id": "8524023f",
   "metadata": {},
   "outputs": [
    {
     "name": "stdout",
     "output_type": "stream",
     "text": [
      "╒═════════════════════════════════════════╕\n",
      "│ Q Demanda Bioquímica de Oxígeno         │\n",
      "╞═════════════════════════════════════════╡\n",
      "│ 0      91.641640                        │\n",
      "│ 1      93.709925                        │\n",
      "│ 2      93.709925                        │\n",
      "│ 3      93.709925                        │\n",
      "│ 4      92.670162                        │\n",
      "│          ...                            │\n",
      "│ 287    67.779069                        │\n",
      "│ 288    82.413058                        │\n",
      "│ 289    51.400174                        │\n",
      "│ 290    97.439014                        │\n",
      "│ 291    51.400174                        │\n",
      "│ Name: DBO5, Length: 292, dtype: float64 │\n",
      "╘═════════════════════════════════════════╛\n"
     ]
    }
   ],
   "source": [
    "def calcular_DBO5(valor_DBO5):\n",
    "    def calcular_Q_DBO5(DBO):\n",
    "        if DBO>30:\n",
    "            return 2\n",
    "        else:\n",
    "            return 1.8677e-4*DBO**4-1.6615e-2*DBO**3+5.9636e-1*DBO**2-1.1152e1*DBO+1.0019e2\n",
    "    Q_DBO5=valor_DBO5.apply(calcular_Q_DBO5)\n",
    "    return Q_DBO5\n",
    "Q_DBO5=calcular_DBO5(df[\"DBO5\"])\n",
    "\n",
    "dt_DBO5=[[\"Q Demanda Bioquímica de Oxígeno\"],\n",
    "        [Q_DBO5]]\n",
    "tabla_DBO5=tabulate(dt_DBO5, headers=\"firstrow\", tablefmt=\"fancy_grid\")\n",
    "print(tabla_DBO5)\n",
    "\n",
    "df[\"Q DBO5\"]=Q_DBO5"
   ]
  },
  {
   "cell_type": "markdown",
   "id": "4ec3e6c4",
   "metadata": {},
   "source": [
    "## Nitratos (Q)"
   ]
  },
  {
   "cell_type": "code",
   "execution_count": 7,
   "id": "7b376b7a",
   "metadata": {},
   "outputs": [
    {
     "name": "stdout",
     "output_type": "stream",
     "text": [
      "╒═════════════════════════════════════════════╕\n",
      "│ Q Nitratos                                  │\n",
      "╞═════════════════════════════════════════════╡\n",
      "│ 0      54.783000                            │\n",
      "│ 1      76.040560                            │\n",
      "│ 2      76.040560                            │\n",
      "│ 3      65.048276                            │\n",
      "│ 4      56.588413                            │\n",
      "│          ...                                │\n",
      "│ 287    18.143869                            │\n",
      "│ 288     1.000000                            │\n",
      "│ 289     1.000000                            │\n",
      "│ 290     1.000000                            │\n",
      "│ 291     1.000000                            │\n",
      "│ Name: Nitratos, Length: 292, dtype: float64 │\n",
      "╘═════════════════════════════════════════════╛\n"
     ]
    }
   ],
   "source": [
    "def calcular_N(valor_N):\n",
    "    def calcular_Q_N(N):\n",
    "        if N>100:\n",
    "            return 1\n",
    "        else:\n",
    "            return 3.5603e-9*N**6-1.2183e-6*N**5+1.6238e-4*N**4-1.0693e-2*N**3+3.7304e-1*N**2-7.521*N+1.0095e2\n",
    "    Q_N=valor_N.apply(calcular_Q_N)\n",
    "    return Q_N\n",
    "Q_N=calcular_N(df[\"Nitratos\"])\n",
    "\n",
    "dt_N=[[\"Q Nitratos\"],\n",
    "        [Q_N]]\n",
    "tabla_N=tabulate(dt_N, headers=\"firstrow\", tablefmt=\"fancy_grid\")\n",
    "print(tabla_N)\n",
    "\n",
    "df[\"Q N\"]=Q_N"
   ]
  },
  {
   "cell_type": "markdown",
   "id": "8a5cf68b",
   "metadata": {},
   "source": [
    "## Fosfatos (Q)"
   ]
  },
  {
   "cell_type": "code",
   "execution_count": 8,
   "id": "8947cf59",
   "metadata": {},
   "outputs": [
    {
     "name": "stdout",
     "output_type": "stream",
     "text": [
      "╒═════════════════════════════════════════════╕\n",
      "│ Q Fosfatos                                  │\n",
      "╞═════════════════════════════════════════════╡\n",
      "│ 0      95.148300                            │\n",
      "│ 1      93.084559                            │\n",
      "│ 2      96.965598                            │\n",
      "│ 3      96.009636                            │\n",
      "│ 4      95.393258                            │\n",
      "│          ...                                │\n",
      "│ 287    67.690586                            │\n",
      "│ 288    63.933186                            │\n",
      "│ 289    24.475925                            │\n",
      "│ 290    88.368685                            │\n",
      "│ 291    54.213319                            │\n",
      "│ Name: Fosfatos, Length: 292, dtype: float64 │\n",
      "╘═════════════════════════════════════════════╛\n"
     ]
    }
   ],
   "source": [
    "def calcular_P(valor_P):\n",
    "    def calcular_Q_P(P):\n",
    "        if P>10:\n",
    "            return 1\n",
    "        else:\n",
    "            return 4.6732e-3*P**6-1.6167e-1*P**5+2.20595*P**4-1.50504e1*P**3+5.38893e1*P**2-9.98933e1*P+9.98311e1\n",
    "    Q_P=valor_P.apply(calcular_Q_P)\n",
    "    return Q_P\n",
    "Q_P=calcular_P(df[\"Fosfatos\"])\n",
    "\n",
    "dt_P=[[\"Q Fosfatos\"],\n",
    "        [Q_P]]\n",
    "tabla_P=tabulate(dt_P, headers=\"firstrow\", tablefmt=\"fancy_grid\")\n",
    "print(tabla_P)\n",
    "\n",
    "df[\"Q P\"]=Q_P"
   ]
  },
  {
   "cell_type": "markdown",
   "id": "5d1c8c62",
   "metadata": {},
   "source": [
    "## Cambio de Temperatura (Q)"
   ]
  },
  {
   "cell_type": "code",
   "execution_count": 9,
   "id": "19cac70d",
   "metadata": {},
   "outputs": [
    {
     "name": "stdout",
     "output_type": "stream",
     "text": [
      "╒════════════════════════════════════════════════╕\n",
      "│ Q Temperatura                                  │\n",
      "╞════════════════════════════════════════════════╡\n",
      "│ 0      43.519712                               │\n",
      "│ 1      32.600961                               │\n",
      "│ 2      34.011980                               │\n",
      "│ 3      42.061037                               │\n",
      "│ 4      45.023500                               │\n",
      "│          ...                                   │\n",
      "│ 287    37.980109                               │\n",
      "│ 288    30.378247                               │\n",
      "│ 289    28.218286                               │\n",
      "│ 290    34.755698                               │\n",
      "│ 291    30.676589                               │\n",
      "│ Name: Temperatura, Length: 292, dtype: float64 │\n",
      "╘════════════════════════════════════════════════╛\n"
     ]
    }
   ],
   "source": [
    "def calcular_CT(valor_CT):\n",
    "    def calcular_Q_CT(CT):        \n",
    "        return 1.9619e-6*CT**6-1.3964e-4*CT**5+2.5908e-3*CT**4+1.5398e-2*CT**3-6.7952e-1*CT**2-6.7204e-1*CT+9.0392e1\n",
    "    Q_CT=valor_CT.apply(calcular_Q_CT)\n",
    "    return Q_CT\n",
    "Q_CT=calcular_CT(df[\"Temperatura\"])\n",
    "\n",
    "dt_CT=[[\"Q Temperatura\"],\n",
    "        [Q_CT]]\n",
    "tabla_CT=tabulate(dt_CT, headers=\"firstrow\", tablefmt=\"fancy_grid\")\n",
    "print(tabla_CT)\n",
    "\n",
    "df[\"Q CT\"]=Q_CT"
   ]
  },
  {
   "cell_type": "markdown",
   "id": "5bc46a78",
   "metadata": {},
   "source": [
    "## Turbiedad (Q)"
   ]
  },
  {
   "cell_type": "code",
   "execution_count": 10,
   "id": "2d06221c",
   "metadata": {},
   "outputs": [
    {
     "name": "stdout",
     "output_type": "stream",
     "text": [
      "╒══════════════════════════════════════════════╕\n",
      "│ Q Turbiedad                                  │\n",
      "╞══════════════════════════════════════════════╡\n",
      "│ 0      94.165088                             │\n",
      "│ 1      89.895759                             │\n",
      "│ 2      95.064151                             │\n",
      "│ 3      93.082730                             │\n",
      "│ 4      94.189897                             │\n",
      "│          ...                                 │\n",
      "│ 287    88.747745                             │\n",
      "│ 288    91.802739                             │\n",
      "│ 289    70.102234                             │\n",
      "│ 290    92.499917                             │\n",
      "│ 291    89.433913                             │\n",
      "│ Name: Turbiedad, Length: 292, dtype: float64 │\n",
      "╘══════════════════════════════════════════════╛\n"
     ]
    }
   ],
   "source": [
    "def calcular_T(valor_T):\n",
    "    def calcular_Q_T(T):\n",
    "        if T>100:\n",
    "            return 5\n",
    "        else:\n",
    "            return 1.8939e-6*T**4-4.9942e-4*T**3+4.9181e-2*T**2-2.6284*T+9.8098e1\n",
    "    Q_T=valor_T.apply(calcular_Q_T)\n",
    "    return Q_T\n",
    "Q_T=calcular_T(df[\"Turbiedad\"])\n",
    "\n",
    "dt_T=[[\"Q Turbiedad\"],\n",
    "        [Q_T]]\n",
    "tabla_T=tabulate(dt_T, headers=\"firstrow\", tablefmt=\"fancy_grid\")\n",
    "print(tabla_T)\n",
    "\n",
    "df[\"Q T\"]=Q_T"
   ]
  },
  {
   "cell_type": "markdown",
   "id": "22687000",
   "metadata": {},
   "source": [
    "## Sólidos Totales (Q)"
   ]
  },
  {
   "cell_type": "code",
   "execution_count": 11,
   "id": "4d33a862",
   "metadata": {},
   "outputs": [
    {
     "name": "stdout",
     "output_type": "stream",
     "text": [
      "╒════════════════════════════════════════════════════╕\n",
      "│ Q Sólidos Totales                                  │\n",
      "╞════════════════════════════════════════════════════╡\n",
      "│ 0      85.356493                                   │\n",
      "│ 1      85.671472                                   │\n",
      "│ 2      85.701402                                   │\n",
      "│ 3      85.861200                                   │\n",
      "│ 4      85.356493                                   │\n",
      "│          ...                                       │\n",
      "│ 287    84.976166                                   │\n",
      "│ 288    85.835233                                   │\n",
      "│ 289    77.409876                                   │\n",
      "│ 290    85.490052                                   │\n",
      "│ 291    82.170532                                   │\n",
      "│ Name: Sólidos Totales, Length: 292, dtype: float64 │\n",
      "╘════════════════════════════════════════════════════╛\n"
     ]
    }
   ],
   "source": [
    "def calcular_ST(valor_ST):\n",
    "    def calcular_Q_ST(ST):\n",
    "        if ST>500:\n",
    "            return 32\n",
    "        else:\n",
    "            return -4.4289e-9*ST**4+4.65e-6*ST**3-1.9591e-3*ST**2+1.8973e-1*ST+8.0608e1\n",
    "    Q_ST=valor_ST.apply(calcular_Q_ST)\n",
    "    return Q_ST\n",
    "Q_ST=calcular_ST(df[\"Sólidos Totales\"])\n",
    "\n",
    "dt_ST=[[\"Q Sólidos Totales\"],\n",
    "        [Q_ST]]\n",
    "tabla_ST=tabulate(dt_ST, headers=\"firstrow\", tablefmt=\"fancy_grid\")\n",
    "print(tabla_ST)\n",
    "\n",
    "df[\"Q ST\"]=Q_ST"
   ]
  },
  {
   "cell_type": "markdown",
   "id": "47f6449c",
   "metadata": {},
   "source": [
    "## Índice de la Fundación Nacional de Saneaminto (INSF)"
   ]
  },
  {
   "cell_type": "code",
   "execution_count": 12,
   "id": "ccda264e",
   "metadata": {},
   "outputs": [
    {
     "name": "stdout",
     "output_type": "stream",
     "text": [
      "╒═════════════════════════════╤════════════════════════════╕\n",
      "│ INSF                        │ Categoría                  │\n",
      "╞═════════════════════════════╪════════════════════════════╡\n",
      "│ 0      80.488830            │ 0        Buena             │\n",
      "│ 1      80.110454            │ 1        Buena             │\n",
      "│ 2      81.591183            │ 2        Buena             │\n",
      "│ 3      79.735328            │ 3        Buena             │\n",
      "│ 4      79.770114            │ 4        Buena             │\n",
      "│          ...                │         ...                │\n",
      "│ 287    60.447158            │ 287    Regular             │\n",
      "│ 288    59.622509            │ 288    Regular             │\n",
      "│ 289    50.242044            │ 289       Mala             │\n",
      "│ 290    65.500641            │ 290    Regular             │\n",
      "│ 291    55.599849            │ 291    Regular             │\n",
      "│ Length: 292, dtype: float64 │ Length: 292, dtype: object │\n",
      "╘═════════════════════════════╧════════════════════════════╛\n"
     ]
    }
   ],
   "source": [
    "INSF=Q_OD*0.17+Q_CF*0.15+Q_pH*0.12+Q_DBO5*0.10+Q_N*0.10+Q_P*0.10+Q_CT*0.10+Q_T*0.08+Q_ST*0.08\n",
    "\n",
    "def categorizar_ICA(INSF):\n",
    "    def categorizar_INSF(INSF):\n",
    "        if INSF>=91:\n",
    "            return \"Excelente\"\n",
    "        elif INSF>=71:\n",
    "            return \"Buena\"\n",
    "        elif INSF>=51:\n",
    "            return \"Regular\"\n",
    "        elif INSF>=26:\n",
    "            return \"Mala\"\n",
    "        else:\n",
    "            return \"Pésima\"\n",
    "    Categoria=INSF.apply(categorizar_INSF)\n",
    "    return Categoria\n",
    "Categoria=categorizar_ICA(INSF)\n",
    "\n",
    "dt=[[\"INSF\", \"Categoría\"],\n",
    "    [INSF, Categoria]]\n",
    "tabla=tabulate(dt, headers=\"firstrow\", tablefmt=\"fancy_grid\")\n",
    "print(tabla)\n",
    "\n",
    "df[\"INSF\"]=INSF\n",
    "df[\"Categoría\"]=Categoria"
   ]
  },
  {
   "cell_type": "code",
   "execution_count": 13,
   "id": "e9f5baac",
   "metadata": {},
   "outputs": [],
   "source": [
    "df.to_excel(\"BD_INSF.xlsx\", index=False)"
   ]
  },
  {
   "cell_type": "code",
   "execution_count": null,
   "id": "e5b26beb",
   "metadata": {},
   "outputs": [],
   "source": []
  }
 ],
 "metadata": {
  "kernelspec": {
   "display_name": "Python 3 (ipykernel)",
   "language": "python",
   "name": "python3"
  },
  "language_info": {
   "codemirror_mode": {
    "name": "ipython",
    "version": 3
   },
   "file_extension": ".py",
   "mimetype": "text/x-python",
   "name": "python",
   "nbconvert_exporter": "python",
   "pygments_lexer": "ipython3",
   "version": "3.10.9"
  }
 },
 "nbformat": 4,
 "nbformat_minor": 5
}
